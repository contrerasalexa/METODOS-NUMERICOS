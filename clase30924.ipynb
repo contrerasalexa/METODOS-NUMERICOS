{
 "cells": [
  {
   "cell_type": "markdown",
   "metadata": {},
   "source": [
    "#Función del factorial"
   ]
  },
  {
   "cell_type": "code",
   "execution_count": 18,
   "metadata": {},
   "outputs": [
    {
     "name": "stdout",
     "output_type": "stream",
     "text": [
      "1 ! es igual a 1\n"
     ]
    }
   ],
   "source": [
    "def factorial(x):\n",
    "    \n",
    "\n",
    "    if x == 0: return 1\n",
    "    else: \n",
    "        prod = 1\n",
    "        for i in range(1, x+1):\n",
    "            prod = prod * i\n",
    "        return prod\n",
    "x=int(input(\"ingresa un numero\"))\n",
    "print(x,\"! es igual a\",factorial(x))"
   ]
  },
  {
   "cell_type": "markdown",
   "metadata": {},
   "source": [
    "Funciones Lambda"
   ]
  },
  {
   "cell_type": "code",
   "execution_count": 1,
   "metadata": {},
   "outputs": [
    {
     "ename": "AttributeError",
     "evalue": "module 'sympy' has no attribute 'print'",
     "output_type": "error",
     "traceback": [
      "\u001b[1;31m---------------------------------------------------------------------------\u001b[0m",
      "\u001b[1;31mAttributeError\u001b[0m                            Traceback (most recent call last)",
      "Cell \u001b[1;32mIn[1], line 5\u001b[0m\n\u001b[0;32m      3\u001b[0m x_Sym \u001b[38;5;241m=\u001b[39m sp\u001b[38;5;241m.\u001b[39msymbols(\u001b[38;5;124m'\u001b[39m\u001b[38;5;124mx\u001b[39m\u001b[38;5;124m'\u001b[39m)\n\u001b[0;32m      4\u001b[0m px \u001b[38;5;241m=\u001b[39m sp\u001b[38;5;241m.\u001b[39mseries(sp\u001b[38;5;241m.\u001b[39mln(x_Sym), \u001b[38;5;241m1\u001b[39m,\u001b[38;5;241m6\u001b[39m)\n\u001b[1;32m----> 5\u001b[0m \u001b[43msp\u001b[49m\u001b[38;5;241;43m.\u001b[39;49m\u001b[43mprint\u001b[49m(px)\n",
      "\u001b[1;31mAttributeError\u001b[0m: module 'sympy' has no attribute 'print'"
     ]
    }
   ],
   "source": [
    "import sympy as sp\n",
    "\n",
    "x_Sym = sp.symbols('x')\n",
    "px = sp.series(sp.ln(x_Sym), 1,6)\n",
    "sp.print(px)\n",
    "\n"
   ]
  },
  {
   "cell_type": "code",
   "execution_count": null,
   "metadata": {},
   "outputs": [],
   "source": []
  },
  {
   "cell_type": "code",
   "execution_count": null,
   "metadata": {},
   "outputs": [],
   "source": []
  }
 ],
 "metadata": {
  "kernelspec": {
   "display_name": "Python 3",
   "language": "python",
   "name": "python3"
  },
  "language_info": {
   "codemirror_mode": {
    "name": "ipython",
    "version": 3
   },
   "file_extension": ".py",
   "mimetype": "text/x-python",
   "name": "python",
   "nbconvert_exporter": "python",
   "pygments_lexer": "ipython3",
   "version": "3.12.5"
  }
 },
 "nbformat": 4,
 "nbformat_minor": 2
}
