{
 "cells": [
  {
   "cell_type": "markdown",
   "metadata": {},
   "source": [
    "<h1 style=\"color:purple; text-align:center; font-size: 60px\"><strong>Método de Punto Fijo<strong></h1>"
   ]
  },
  {
   "cell_type": "markdown",
   "metadata": {},
   "source": [
    "### Función \n",
    "$$ x = \\frac{2-e^{x} + x^{2}}{3} $$\n"
   ]
  },
  {
   "cell_type": "code",
   "execution_count": 13,
   "metadata": {},
   "outputs": [
    {
     "name": "stdout",
     "output_type": "stream",
     "text": [
      "(a): x = (2 - e^x + x^2) / 3\n",
      " Iteración                    x                Error\n",
      "         0         0.0939060572         0.9060939428\n",
      "         1         0.3034539329         0.2095478757\n",
      "         2         0.2458516997         0.0576022332\n",
      "         3         0.2605777106         0.0147260109\n",
      "         4         0.2567403966         0.0038373140\n",
      "         5         0.2577353799         0.0009949833\n",
      "         6         0.2574770567         0.0002583232\n",
      "         7         0.2575441017         0.0000670449\n",
      "         8         0.2575266994         0.0000174023\n",
      "         9         0.2575312162         0.0000045169\n",
      "Converge en 10 iteraciones con una aproximación de 0.2575312162300099.\n"
     ]
    },
    {
     "data": {
      "text/plain": [
       "np.float64(0.2575312162300099)"
      ]
     },
     "execution_count": 13,
     "metadata": {},
     "output_type": "execute_result"
    }
   ],
   "source": [
    "import numpy as np\n",
    "\n",
    "def fp(g, x0, tol=1e-5, max_iter=100):\n",
    "    \"\"\"\n",
    "    Método de punto fijo para encontrar la raíz de una función g(x) = x.\n",
    "    \n",
    "    Parámetros:\n",
    "    g: La función g(x) definida.\n",
    "    x0: Valor inicial.\n",
    "    tol: Tolerancia para la convergencia (por defecto 1e-5).\n",
    "    max_iter: Número máximo de iteraciones (por defecto 100).\n",
    "    \n",
    "    Retorna:\n",
    "    La raíz aproximada y el número de iteraciones.\n",
    "    \"\"\"\n",
    "    iter_count = 0\n",
    "    error = tol + 1  # Iniciar el error mayor que la tolerancia\n",
    "    \n",
    "    print(f\"{'Iteración':>10} {'x':>20} {'Error':>20}\")\n",
    "    \n",
    "    while error > tol and iter_count < max_iter:\n",
    "        x1 = g(x0)  # Nueva aproximación usando la función g(x)\n",
    "        error = abs(x1 - x0)  # Calcular el error\n",
    "        print(f\"{iter_count:10d} {x1:20.10f} {error:20.10f}\")\n",
    "        x0 = x1  # Actualizar el valor de x\n",
    "        iter_count += 1\n",
    "    \n",
    "    if error <= tol:\n",
    "        print(f\"Converge en {iter_count} iteraciones con una aproximación de {x1}.\")\n",
    "    else:\n",
    "        print(f\"No converge después de {max_iter} iteraciones.\")\n",
    "    \n",
    "    return x1 if error <= tol else None\n",
    "\n",
    "\n",
    "# Definir las funciones correspondientes a las ecuaciones del problema\n",
    "\n",
    "# a) x = (2 - e^x + x^2) / 3\n",
    "def g_a(x):\n",
    "    return (2 - np.exp(x) + x**2) / 3\n",
    "\n",
    "# Punto inicial y tolerancia para la iteración\n",
    "x0 = 1.0  # Puedes ajustar este valor según sea necesario\n",
    "\n",
    "# Tolerancia y máximo número de iteraciones\n",
    "tol = 1e-5\n",
    "max_iter = 100\n",
    "\n",
    "# Ejecutar el método de punto fijo para cada función\n",
    "\n",
    "print(\"(a): x = (2 - e^x + x^2) / 3\")\n",
    "fp(g_a, x0, tol, max_iter)\n",
    "\n"
   ]
  },
  {
   "cell_type": "markdown",
   "metadata": {},
   "source": [
    "### Función \n",
    "$$ x = \\frac{5}{x^{2}} + 2 $$\n"
   ]
  },
  {
   "cell_type": "code",
   "execution_count": 14,
   "metadata": {},
   "outputs": [
    {
     "name": "stdout",
     "output_type": "stream",
     "text": [
      "\n",
      "(b): x = 5 / x^2 + 2\n",
      " Iteración                    x                Error\n",
      "         0         7.0000000000         6.0000000000\n",
      "         1         2.1020408163         4.8979591837\n",
      "         2         3.1315863889         1.0295455726\n",
      "         3         2.5098485761         0.6217378128\n",
      "         4         2.7937339625         0.2838853864\n",
      "         5         2.6406191392         0.1531148233\n",
      "         6         2.7170649106         0.0764457714\n",
      "         7         2.6772826910         0.0397822195\n",
      "         8         2.6975599596         0.0202772686\n",
      "         9         2.6871124077         0.0104475519\n",
      "        10         2.6924658108         0.0053534031\n",
      "        11         2.6897149025         0.0027509083\n",
      "        12         2.6911264370         0.0014115345\n",
      "        13         2.6904016156         0.0007248214\n",
      "        14         2.6907736681         0.0003720524\n",
      "        15         2.6905826551         0.0001910129\n",
      "        16         2.6906807119         0.0000980567\n",
      "        17         2.6906303717         0.0000503402\n",
      "        18         2.6906562146         0.0000258429\n",
      "        19         2.6906429476         0.0000132670\n",
      "        20         2.6906497584         0.0000068108\n",
      "Converge en 21 iteraciones con una aproximación de 2.6906497584230067.\n"
     ]
    },
    {
     "data": {
      "text/plain": [
       "2.6906497584230067"
      ]
     },
     "execution_count": 14,
     "metadata": {},
     "output_type": "execute_result"
    }
   ],
   "source": [
    "import numpy as np\n",
    "\n",
    "def fp(g, x0, tol=1e-5, max_iter=100):\n",
    "    \n",
    "    iter_count = 0\n",
    "    error = tol + 1  # Iniciar el error mayor que la tolerancia\n",
    "    \n",
    "    print(f\"{'Iteración':>10} {'x':>20} {'Error':>20}\")\n",
    "    \n",
    "    while error > tol and iter_count < max_iter:\n",
    "        x1 = g(x0)  # Nueva aproximación usando la función g(x)\n",
    "        error = abs(x1 - x0)  # Calcular el error\n",
    "        print(f\"{iter_count:10d} {x1:20.10f} {error:20.10f}\")\n",
    "        x0 = x1  # Actualizar el valor de x\n",
    "        iter_count += 1\n",
    "    \n",
    "    if error <= tol:\n",
    "        print(f\"Converge en {iter_count} iteraciones con una aproximación de {x1}.\")\n",
    "    else:\n",
    "        print(f\"No converge después de {max_iter} iteraciones.\")\n",
    "    \n",
    "    return x1 if error <= tol else None\n",
    "\n",
    "\n",
    "# Definir las funciones correspondientes a las ecuaciones del problema\n",
    "\n",
    "# b) x = 5 / x^2 + 2\n",
    "def g_b(x):\n",
    "    return 5 / x**2 + 2\n",
    "\n",
    "# Punto inicial y tolerancia para la iteración\n",
    "x0 = 1.0  # Puedes ajustar este valor según sea necesario\n",
    "\n",
    "# Tolerancia y máximo número de iteraciones\n",
    "tol = 1e-5\n",
    "max_iter = 100\n",
    "\n",
    "# Ejecutar el método de punto fijo para cada función\n",
    "\n",
    "\n",
    "print(\"\\n(b): x = 5 / x^2 + 2\")\n",
    "fp(g_b, x0, tol, max_iter)\n",
    "\n"
   ]
  },
  {
   "cell_type": "markdown",
   "metadata": {},
   "source": [
    "### Función \n",
    "$$ x = (e^{x}/3)^{\\frac{1}{2}} $$\n"
   ]
  },
  {
   "cell_type": "code",
   "execution_count": 15,
   "metadata": {},
   "outputs": [
    {
     "name": "stdout",
     "output_type": "stream",
     "text": [
      "\n",
      "(c): x = (e^(x/3))^(1/2)\n",
      " Iteración                    x                Error\n",
      "         0         1.1813604129         0.1813604129\n",
      "         1         1.2176142387         0.0362538259\n",
      "         2         1.2249937065         0.0073794678\n",
      "         3         1.2265012670         0.0015075605\n",
      "         4         1.2268094766         0.0003082095\n",
      "         5         1.2268724972         0.0000630207\n",
      "         6         1.2268853837         0.0000128865\n",
      "         7         1.2268880187         0.0000026350\n",
      "Converge en 8 iteraciones con una aproximación de 1.2268880187252478.\n"
     ]
    },
    {
     "data": {
      "text/plain": [
       "np.float64(1.2268880187252478)"
      ]
     },
     "execution_count": 15,
     "metadata": {},
     "output_type": "execute_result"
    }
   ],
   "source": [
    "import numpy as np\n",
    "\n",
    "def fp(g, x0, tol=1e-5, max_iter=100):\n",
    "   \n",
    "    iter_count = 0\n",
    "    error = tol + 1  # Iniciar el error mayor que la tolerancia\n",
    "    \n",
    "    print(f\"{'Iteración':>10} {'x':>20} {'Error':>20}\")\n",
    "    \n",
    "    while error > tol and iter_count < max_iter:\n",
    "        x1 = g(x0)  # Nueva aproximación usando la función g(x)\n",
    "        error = abs(x1 - x0)  # Calcular el error\n",
    "        print(f\"{iter_count:10d} {x1:20.10f} {error:20.10f}\")\n",
    "        x0 = x1  # Actualizar el valor de x\n",
    "        iter_count += 1\n",
    "    \n",
    "    if error <= tol:\n",
    "        print(f\"Converge en {iter_count} iteraciones con una aproximación de {x1}.\")\n",
    "    else:\n",
    "        print(f\"No converge después de {max_iter} iteraciones.\")\n",
    "    \n",
    "    return x1 if error <= tol else None\n",
    "\n",
    "\n",
    "# Definir las funciones correspondientes a las ecuaciones del problema\n",
    "\n",
    "# c) x = (e^(x/3))^(1/2)\n",
    "def g_c(x):\n",
    "    return np.sqrt(np.exp(x / 3))\n",
    "\n",
    "# Punto inicial y tolerancia para la iteración\n",
    "x0 = 1.0  # Puedes ajustar este valor según sea necesario\n",
    "\n",
    "# Tolerancia y máximo número de iteraciones\n",
    "tol = 1e-5\n",
    "max_iter = 100\n",
    "\n",
    "# Ejecutar el método de punto fijo para cada función\n",
    "\n",
    "\n",
    "print(\"\\n(c): x = (e^(x/3))^(1/2)\")\n",
    "fp(g_c, x0, tol, max_iter)\n"
   ]
  },
  {
   "cell_type": "markdown",
   "metadata": {},
   "source": [
    "### Función \n",
    "$$ x = 5^{-x} $$\n"
   ]
  },
  {
   "cell_type": "code",
   "execution_count": 16,
   "metadata": {},
   "outputs": [
    {
     "name": "stdout",
     "output_type": "stream",
     "text": [
      "\n",
      "(d): x = 5^-x\n",
      " Iteración                    x                Error\n",
      "         0         0.2000000000         0.8000000000\n",
      "         1         0.7247796637         0.5247796637\n",
      "         2         0.3114589071         0.4133207566\n",
      "         3         0.6057585690         0.2942996619\n",
      "         4         0.3772184536         0.2285401154\n",
      "         5         0.5449235984         0.1677051448\n",
      "         6         0.4160205176         0.1289030808\n",
      "         7         0.5119341920         0.0959136744\n",
      "         8         0.4387057793         0.0732284127\n",
      "         9         0.4935803022         0.0548745230\n",
      "        10         0.4518582063         0.0417220959\n",
      "        11         0.4832419939         0.0313837876\n",
      "        12         0.4594395114         0.0238024824\n",
      "        13         0.4773814758         0.0179419643\n",
      "        14         0.4637935107         0.0135879650\n",
      "        15         0.4740479227         0.0102544119\n",
      "        16         0.4662885180         0.0077594047\n",
      "        17         0.4721481720         0.0058596539\n",
      "        18         0.4677163913         0.0044317806\n",
      "        19         0.4710643866         0.0033479953\n",
      "        20         0.4685329341         0.0025314525\n",
      "        21         0.4704457322         0.0019127981\n",
      "        22         0.4689996780         0.0014460542\n",
      "        23         0.4700924683         0.0010927903\n",
      "        24         0.4692664066         0.0008260617\n",
      "        25         0.4698907088         0.0006243023\n",
      "        26         0.4694188112         0.0004718977\n",
      "        27         0.4697754655         0.0003566543\n",
      "        28         0.4695058856         0.0002695798\n",
      "        29         0.4697096353         0.0002037497\n",
      "        30         0.4695556322         0.0001540031\n",
      "        31         0.4696720299         0.0001163977\n",
      "        32         0.4695840522         0.0000879777\n",
      "        33         0.4696505475         0.0000664953\n",
      "        34         0.4696002882         0.0000502593\n",
      "        35         0.4696382754         0.0000379872\n",
      "        36         0.4696095635         0.0000287119\n",
      "        37         0.4696312646         0.0000217011\n",
      "        38         0.4696148623         0.0000164024\n",
      "        39         0.4696272596         0.0000123973\n",
      "        40         0.4696178894         0.0000093703\n",
      "Converge en 41 iteraciones con una aproximación de 0.469617889352681.\n"
     ]
    },
    {
     "data": {
      "text/plain": [
       "0.469617889352681"
      ]
     },
     "execution_count": 16,
     "metadata": {},
     "output_type": "execute_result"
    }
   ],
   "source": [
    "import numpy as np\n",
    "\n",
    "def fp(g, x0, tol=1e-5, max_iter=100):\n",
    "    \n",
    "    iter_count = 0\n",
    "    error = tol + 1  # Iniciar el error mayor que la tolerancia\n",
    "    \n",
    "    print(f\"{'Iteración':>10} {'x':>20} {'Error':>20}\")\n",
    "    \n",
    "    while error > tol and iter_count < max_iter:\n",
    "        x1 = g(x0)  # Nueva aproximación usando la función g(x)\n",
    "        error = abs(x1 - x0)  # Calcular el error\n",
    "        print(f\"{iter_count:10d} {x1:20.10f} {error:20.10f}\")\n",
    "        x0 = x1  # Actualizar el valor de x\n",
    "        iter_count += 1\n",
    "    \n",
    "    if error <= tol:\n",
    "        print(f\"Converge en {iter_count} iteraciones con una aproximación de {x1}.\")\n",
    "    else:\n",
    "        print(f\"No converge después de {max_iter} iteraciones.\")\n",
    "    \n",
    "    return x1 if error <= tol else None\n",
    "\n",
    "\n",
    "# Definir las funciones correspondientes a las ecuaciones del problema\n",
    "\n",
    "# d) x = 5^-x\n",
    "def g_d(x):\n",
    "    return 5**-x\n",
    "\n",
    "# Punto inicial y tolerancia para la iteración\n",
    "x0 = 1.0  # Puedes ajustar este valor según sea necesario\n",
    "\n",
    "# Tolerancia y máximo número de iteraciones\n",
    "tol = 1e-5\n",
    "max_iter = 100\n",
    "\n",
    "# Ejecutar el método de punto fijo para cada función\n",
    "\n",
    "print(\"\\n(d): x = 5^-x\")\n",
    "fp(g_d, x0, tol, max_iter)\n"
   ]
  },
  {
   "cell_type": "markdown",
   "metadata": {},
   "source": [
    "### Función \n",
    "$$ x = 6^{-x}$$"
   ]
  },
  {
   "cell_type": "code",
   "execution_count": 17,
   "metadata": {},
   "outputs": [
    {
     "name": "stdout",
     "output_type": "stream",
     "text": [
      "\n",
      "(e): x = 6^-x\n",
      " Iteración                    x                Error\n",
      "         0         0.1666666667         0.8333333333\n",
      "         1         0.7418363756         0.5751697089\n",
      "         2         0.2646909525         0.4771454231\n",
      "         3         0.6223438531         0.3576529006\n",
      "         4         0.3278856066         0.2944582465\n",
      "         5         0.5557192044         0.2278335978\n",
      "         6         0.3694591326         0.1862600718\n",
      "         7         0.5158280016         0.1463688690\n",
      "         8         0.3968330140         0.1189949876\n",
      "         9         0.4911384032         0.0943053892\n",
      "        10         0.4147821299         0.0763562733\n",
      "        11         0.4755944380         0.0608123080\n",
      "        12         0.4264966197         0.0490978183\n",
      "        13         0.4657159608         0.0392193411\n",
      "        14         0.4341127514         0.0316032093\n",
      "        15         0.4594038386         0.0252910872\n",
      "        16         0.4390503509         0.0203534877\n",
      "        17         0.4553574229         0.0163070720\n",
      "        18         0.4422451227         0.0131123001\n",
      "        19         0.4527582835         0.0105131608\n",
      "        20         0.4443094758         0.0084488077\n",
      "        21         0.4510867036         0.0067772278\n",
      "        22         0.4456422082         0.0054444953\n",
      "        23         0.4500108225         0.0043686143\n",
      "        24         0.4465021103         0.0035087122\n",
      "        25         0.4493180078         0.0028158975\n",
      "        26         0.4470567231         0.0022612847\n",
      "        27         0.4488717275         0.0018150044\n",
      "        28         0.4474143446         0.0014573829\n",
      "        29         0.4485841953         0.0011698507\n",
      "        30         0.4476449068         0.0009392886\n",
      "        31         0.4483989181         0.0007540114\n",
      "        32         0.4477935371         0.0006053810\n",
      "        33         0.4482795210         0.0004859839\n",
      "        34         0.4478893442         0.0003901768\n",
      "        35         0.4482025745         0.0003132303\n",
      "        36         0.4479510988         0.0002514756\n",
      "        37         0.4481529838         0.0002018850\n",
      "        38         0.4479909031         0.0001620808\n",
      "        39         0.4481210229         0.0001301198\n",
      "        40         0.4480165586         0.0001044643\n",
      "        41         0.4481004239         0.0000838653\n",
      "        42         0.4480330945         0.0000673294\n",
      "        43         0.4480871476         0.0000540531\n",
      "        44         0.4480437524         0.0000433952\n",
      "        45         0.4480785908         0.0000348385\n",
      "        46         0.4480506217         0.0000279691\n",
      "        47         0.4480730759         0.0000224542\n",
      "        48         0.4480550491         0.0000180267\n",
      "        49         0.4480695213         0.0000144722\n",
      "        50         0.4480579027         0.0000116186\n",
      "        51         0.4480672304         0.0000093277\n",
      "Converge en 52 iteraciones con una aproximación de 0.44806723039308516.\n"
     ]
    },
    {
     "data": {
      "text/plain": [
       "0.44806723039308516"
      ]
     },
     "execution_count": 17,
     "metadata": {},
     "output_type": "execute_result"
    }
   ],
   "source": [
    "import numpy as np\n",
    "\n",
    "def fp(g, x0, tol=1e-5, max_iter=100):\n",
    "   \n",
    "    iter_count = 0\n",
    "    error = tol + 1  # Iniciar el error mayor que la tolerancia\n",
    "    \n",
    "    print(f\"{'Iteración':>10} {'x':>20} {'Error':>20}\")\n",
    "    \n",
    "    while error > tol and iter_count < max_iter:\n",
    "        x1 = g(x0)  # Nueva aproximación usando la función g(x)\n",
    "        error = abs(x1 - x0)  # Calcular el error\n",
    "        print(f\"{iter_count:10d} {x1:20.10f} {error:20.10f}\")\n",
    "        x0 = x1  # Actualizar el valor de x\n",
    "        iter_count += 1\n",
    "    \n",
    "    if error <= tol:\n",
    "        print(f\"Converge en {iter_count} iteraciones con una aproximación de {x1}.\")\n",
    "    else:\n",
    "        print(f\"No converge después de {max_iter} iteraciones.\")\n",
    "    \n",
    "    return x1 if error <= tol else None\n",
    "\n",
    "\n",
    "# Definir las funciones correspondientes a las ecuaciones del problema\n",
    "# e) x = 6^-x\n",
    "def g_e(x):\n",
    "    return 6**-x\n",
    "\n",
    "# Punto inicial y tolerancia para la iteración\n",
    "x0 = 1.0  # Puedes ajustar este valor según sea necesario\n",
    "\n",
    "# Tolerancia y máximo número de iteraciones\n",
    "tol = 1e-5\n",
    "max_iter = 100\n",
    "\n",
    "# Ejecutar el método de punto fijo para cada función\n",
    "\n",
    "print(\"\\n(e): x = 6^-x\")\n",
    "fp(g_e, x0, tol, max_iter)\n"
   ]
  },
  {
   "cell_type": "markdown",
   "metadata": {},
   "source": [
    "### Función \n",
    "$$ x = 0.5 (sinx + cos x)$$\n"
   ]
  },
  {
   "cell_type": "code",
   "execution_count": 18,
   "metadata": {},
   "outputs": [
    {
     "name": "stdout",
     "output_type": "stream",
     "text": [
      "\n",
      "(f): x = 0.5 * (sin(x) + cos(x))\n",
      " Iteración                    x                Error\n",
      "         0         0.6908866453         0.3091133547\n",
      "         1         0.7039510414         0.0130643961\n",
      "         2         0.7047627337         0.0008116923\n",
      "         3         0.7048091967         0.0000464630\n",
      "         4         0.7048118423         0.0000026456\n",
      "Converge en 5 iteraciones con una aproximación de 0.7048118423185814.\n"
     ]
    },
    {
     "data": {
      "text/plain": [
       "np.float64(0.7048118423185814)"
      ]
     },
     "execution_count": 18,
     "metadata": {},
     "output_type": "execute_result"
    }
   ],
   "source": [
    "import numpy as np\n",
    "\n",
    "def fp(g, x0, tol=1e-5, max_iter=100):\n",
    "    \n",
    "    iter_count = 0\n",
    "    error = tol + 1  # Iniciar el error mayor que la tolerancia\n",
    "    \n",
    "    print(f\"{'Iteración':>10} {'x':>20} {'Error':>20}\")\n",
    "    \n",
    "    while error > tol and iter_count < max_iter:\n",
    "        x1 = g(x0)  # Nueva aproximación usando la función g(x)\n",
    "        error = abs(x1 - x0)  # Calcular el error\n",
    "        print(f\"{iter_count:10d} {x1:20.10f} {error:20.10f}\")\n",
    "        x0 = x1  # Actualizar el valor de x\n",
    "        iter_count += 1\n",
    "    \n",
    "    if error <= tol:\n",
    "        print(f\"Converge en {iter_count} iteraciones con una aproximación de {x1}.\")\n",
    "    else:\n",
    "        print(f\"No converge después de {max_iter} iteraciones.\")\n",
    "    \n",
    "    return x1 if error <= tol else None\n",
    "\n",
    "\n",
    "# Definir las funciones correspondientes a las ecuaciones del problema\n",
    "# f) x = 0.5 * (sin(x) + cos(x))\n",
    "def g_f(x):\n",
    "    return 0.5 * (np.sin(x) + np.cos(x))\n",
    "\n",
    "# Punto inicial y tolerancia para la iteración\n",
    "x0 = 1.0  # Puedes ajustar este valor según sea necesario\n",
    "\n",
    "# Tolerancia y máximo número de iteraciones\n",
    "tol = 1e-5\n",
    "max_iter = 100\n",
    "\n",
    "# Ejecutar el método de punto fijo para cada función\n",
    "\n",
    "print(\"\\n(f): x = 0.5 * (sin(x) + cos(x))\")\n",
    "fp(g_f, x0, tol, max_iter)\n"
   ]
  }
 ],
 "metadata": {
  "kernelspec": {
   "display_name": "Python 3",
   "language": "python",
   "name": "python3"
  },
  "language_info": {
   "codemirror_mode": {
    "name": "ipython",
    "version": 3
   },
   "file_extension": ".py",
   "mimetype": "text/x-python",
   "name": "python",
   "nbconvert_exporter": "python",
   "pygments_lexer": "ipython3",
   "version": "3.12.6"
  }
 },
 "nbformat": 4,
 "nbformat_minor": 2
}
