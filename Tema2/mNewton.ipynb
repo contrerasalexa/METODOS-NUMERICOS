{
 "cells": [
  {
   "cell_type": "markdown",
   "metadata": {},
   "source": [
    "<h1 style=\"color:purple; text-align:center; font-size: 60px\"><strong>Método de Newton<strong></h1>"
   ]
  },
  {
   "cell_type": "markdown",
   "metadata": {},
   "source": [
    "### Función:\n",
    "$$ x^{2} - 4x +4 - In(x)"
   ]
  },
  {
   "cell_type": "code",
   "execution_count": 1,
   "metadata": {},
   "outputs": [
    {
     "name": "stdout",
     "output_type": "stream",
     "text": [
      " Iteración          x            f(x)           f'(x)           Error\n",
      "         0   1.000000      1.00000000     -1.84147098      0.54304413\n",
      "         1   1.543044     -0.22494850     -1.99961493      0.11249591\n",
      "         2   1.430548     -0.03378241     -1.99018134      0.01697454\n",
      "         3   1.413574     -0.00222519     -1.98766596      0.00111950\n",
      "         4   1.412454     -0.00011865     -1.98749005      0.00005970\n",
      "         5   1.412394     -0.00000623     -1.98748064      0.00000313\n",
      "         6   1.412391     -0.00000033     -1.98748014      0.00000016\n",
      "         7   1.412391     -0.00000002     -1.98748012      0.00000001\n",
      "\n",
      "La raíz encontrada es: 1.4123911725011482\n"
     ]
    }
   ],
   "source": [
    "import numpy as np\n",
    "\n",
    "def f(x):\n",
    "    # Definir la función de la que se desea encontrar la raíz\n",
    "    return x**2-4*x+4-np.log(x)\n",
    "\n",
    "def df(x):\n",
    "    # Derivada de la función\n",
    "    return -np.sin(x) - 1\n",
    "\n",
    "def newton_raphson(x0, tol, max_iter):\n",
    "    iter_count = 0\n",
    "    error = tol + 1  # Inicializar el error mayor que la tolerancia\n",
    "    \n",
    "    # Imprimir encabezado para la tabla\n",
    "    print(f\"{'Iteración':>10} {'x':>10} {'f(x)':>15} {'f\\'(x)':>15} {'Error':>15}\")\n",
    "    \n",
    "    while error > tol and iter_count < max_iter:\n",
    "        # Calcular el nuevo valor de x\n",
    "        x1 = x0 - f(x0) / df(x0)\n",
    "        \n",
    "        # Calcular el error\n",
    "        error = abs(x1 - x0)\n",
    "        \n",
    "        # Imprimir los resultados de la iteración\n",
    "        print(f\"{iter_count:10d} {x0:10.6f} {f(x0):15.8f} {df(x0):15.8f} {error:15.8f}\")\n",
    "        \n",
    "        # Actualizar x0 para la siguiente iteración\n",
    "        x0 = x1\n",
    "        iter_count += 1\n",
    "    \n",
    "    if error < tol:\n",
    "        return x0\n",
    "    else:\n",
    "        print(\"No se encontró una raíz en el número máximo de iteraciones\")\n",
    "        return None\n",
    "\n",
    "# Parámetros iniciales\n",
    "x0 = 1  # Punto inicial\n",
    "tol = 1e-7\n",
    "max_iter = 100\n",
    "\n",
    "# Llamar al método de Newton-Raphson\n",
    "raiz = newton_raphson(x0, tol, max_iter)\n",
    "\n",
    "if raiz is not None:\n",
    "    print(f\"\\nLa raíz encontrada es: {raiz}\")\n"
   ]
  }
 ],
 "metadata": {
  "kernelspec": {
   "display_name": "Python 3",
   "language": "python",
   "name": "python3"
  },
  "language_info": {
   "codemirror_mode": {
    "name": "ipython",
    "version": 3
   },
   "file_extension": ".py",
   "mimetype": "text/x-python",
   "name": "python",
   "nbconvert_exporter": "python",
   "pygments_lexer": "ipython3",
   "version": "3.12.6"
  }
 },
 "nbformat": 4,
 "nbformat_minor": 2
}
