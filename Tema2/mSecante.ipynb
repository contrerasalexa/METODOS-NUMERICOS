{
 "cells": [
  {
   "cell_type": "markdown",
   "metadata": {},
   "source": [
    "<h1 style=\"color:purple; text-align:center; font-size: 60px\"><strong>Método de la Secante<strong></h1>"
   ]
  },
  {
   "cell_type": "markdown",
   "metadata": {},
   "source": [
    "### Función \n",
    "$$ 2x + 3cos(x) - e^{x} = 0$$\n",
    "con valores iniciales $$ x_{0} = 0,  x_{1} = 1$$"
   ]
  },
  {
   "cell_type": "code",
   "execution_count": 1,
   "metadata": {},
   "outputs": [
    {
     "name": "stdout",
     "output_type": "stream",
     "text": [
      " Iteración         x0         x1           f(x0)           f(x1)           Error\n",
      "         0   0.000000   1.000000      2.00000000      0.90262509      0.82253119\n",
      "         1   1.000000   1.822531      0.90262509     -3.28969154      0.64543643\n",
      "         2   1.822531   1.177095     -3.28969154      0.26008460      0.04728976\n",
      "         3   1.177095   1.224385      0.26008460      0.06527238      0.01584457\n",
      "         4   1.224385   1.240229      0.06527238     -0.00220819      0.00051849\n",
      "         5   1.240229   1.239711     -0.00220819      0.00001759      0.00000410\n",
      "         6   1.239711   1.239715      0.00001759      0.00000000      0.00000000\n",
      "\n",
      "La raíz encontrada es: 1.2397146979752198\n"
     ]
    }
   ],
   "source": [
    "import numpy as np\n",
    "\n",
    "def f(x):\n",
    "    # Definir la función de la que se desea encontrar la raíz\n",
    "    return 2*x+3*np.cos(x) - np.e**x\n",
    "\n",
    "def secante(x0, x1, tol, max_iter):\n",
    "    iter_count = 0\n",
    "    error = tol + 1  # Inicializar el error mayor que la tolerancia\n",
    "    \n",
    "    # Imprimir encabezado para la tabla\n",
    "    print(f\"{'Iteración':>10} {'x0':>10} {'x1':>10} {'f(x0)':>15} {'f(x1)':>15} {'Error':>15}\")\n",
    "    \n",
    "    while error > tol and iter_count < max_iter:\n",
    "        # Calcular el nuevo valor de x usando la fórmula del método de la secante\n",
    "        x2 = x1 - f(x1) * (x1 - x0) / (f(x1) - f(x0))\n",
    "        \n",
    "        # Calcular el error\n",
    "        error = abs(x2 - x1)\n",
    "        \n",
    "        # Imprimir los resultados de la iteración\n",
    "        print(f\"{iter_count:10d} {x0:10.6f} {x1:10.6f} {f(x0):15.8f} {f(x1):15.8f} {error:15.8f}\")\n",
    "        \n",
    "        # Actualizar los valores para la siguiente iteración\n",
    "        x0 = x1\n",
    "        x1 = x2\n",
    "        iter_count += 1\n",
    "    \n",
    "    if error < tol:\n",
    "        return x1\n",
    "    else:\n",
    "        print(\"No se encontró una raíz en el número máximo de iteraciones\")\n",
    "        return None\n",
    "\n",
    "# Parámetros iniciales\n",
    "x0 = 0  # Primer valor inicial\n",
    "x1 = 1.0  # Segundo valor inicial\n",
    "tol = 1e-7\n",
    "max_iter = 100\n",
    "\n",
    "# Llamar al método de la secante\n",
    "raiz = secante(x0, x1, tol, max_iter)\n",
    "\n",
    "if raiz is not None:\n",
    "    print(f\"\\nLa raíz encontrada es: {raiz}\")\n"
   ]
  }
 ],
 "metadata": {
  "kernelspec": {
   "display_name": "Python 3",
   "language": "python",
   "name": "python3"
  },
  "language_info": {
   "codemirror_mode": {
    "name": "ipython",
    "version": 3
   },
   "file_extension": ".py",
   "mimetype": "text/x-python",
   "name": "python",
   "nbconvert_exporter": "python",
   "pygments_lexer": "ipython3",
   "version": "3.12.6"
  }
 },
 "nbformat": 4,
 "nbformat_minor": 2
}
