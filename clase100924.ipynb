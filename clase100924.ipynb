{
 "cells": [
  {
   "cell_type": "code",
   "execution_count": null,
   "metadata": {},
   "outputs": [],
   "source": []
  },
  {
   "cell_type": "code",
   "execution_count": 1,
   "metadata": {},
   "outputs": [],
   "source": [
    "\n",
    "def f(x):\n",
    "    return x**3+4*x**2-10\n",
    "a=1\n",
    "b=2\n",
    "\n",
    "Tol = 0.00001\n",
    "N_0= 1000\n",
    "\n",
    "F_a= f(a)\n",
    "F_b= f(b)\n",
    "contador = 0\n",
    "\n",
    "if F_a*F_b > 0:\n",
    "    print(\"La fucnion no tiene cambio de signo en estos valores\")\n",
    "\n",
    "    while contador < N_0:\n",
    "        c = (a+b)/2\n",
    "        F_c= f(c)\n",
    "        contador += 1\n",
    "        print(f\"La aproximacion a la raiz de la iteracion {contador} es: {c}\")\n",
    "        if F_c == 0 or abs(b-a) < Tol:\n",
    "            print(\"La raiz es c=\", c)\n",
    "            break\n",
    "        elif F_a*F_c > 0:\n",
    "            a=c\n",
    "        else:\n",
    "            b=c\n",
    "    print(\"La aproximacion a la raiz es:\", c)\n",
    "    print(\"Contador:\", contador)\n",
    "    \n",
    "    "
   ]
  }
 ],
 "metadata": {
  "kernelspec": {
   "display_name": "Python 3",
   "language": "python",
   "name": "python3"
  },
  "language_info": {
   "codemirror_mode": {
    "name": "ipython",
    "version": 3
   },
   "file_extension": ".py",
   "mimetype": "text/x-python",
   "name": "python",
   "nbconvert_exporter": "python",
   "pygments_lexer": "ipython3",
   "version": "3.12.5"
  }
 },
 "nbformat": 4,
 "nbformat_minor": 2
}
