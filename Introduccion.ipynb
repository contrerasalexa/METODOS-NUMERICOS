{
 "cells": [
  {
   "cell_type": "markdown",
   "metadata": {},
   "source": [
    "# Introducción al Lenguaje de Programación Python\n",
    "\n",
    "Python es un lenguaje de programación de alto nivel creado por Guido van Rossum y lanzado por primera vez en 1991. Desde su aparición, Python ha ganado popularidad debido a su simplicidad, legibilidad y versatilidad, lo que lo hace ideal tanto para principiantes como para programadores experimentados.\n",
    "\n",
    "## Características de Python\n",
    "\n",
    "1. **Simplicidad y legibilidad:** La sintaxis de Python es clara y concisa, lo que permite escribir menos código y hacerlo más fácil de entender.\n",
    "2. **Interpretado:** Python es interpretado, lo que significa que no es necesario compilar el código antes de ejecutarlo. Esto facilita la prueba y la depuración del código.\n",
    "3. **Multiparadigma:** Python admite varios paradigmas de programación, incluidos el orientado a objetos, el procedimental y el funcional.\n",
    "4. **Bibliotecas y frameworks:** Python cuenta con una vasta colección de bibliotecas y frameworks que facilitan el desarrollo en diversas áreas, como la ciencia de datos (NumPy, pandas), el desarrollo web (Django, Flask), la inteligencia artificial (TensorFlow, PyTorch) y muchos más.\n",
    "5. **Portabilidad:** Python es multiplataforma, lo que permite ejecutar el mismo código en diferentes sistemas operativos, como Windows, macOS y Linux, sin modificaciones significativas.\n",
    "\n",
    "## Aplicaciones de Python\n",
    "\n",
    "Python es un lenguaje versátil utilizado en una amplia gama de aplicaciones, tales como:\n",
    "\n",
    "- **Ciencia de datos y análisis:** Bibliotecas como NumPy, pandas y Matplotlib son esenciales para el análisis de datos, la visualización y la computación científica.\n",
    "- **Inteligencia artificial y aprendizaje automático:** Herramientas como TensorFlow, Keras y PyTorch facilitan la creación de modelos de IA y aprendizaje automático.\n",
    "- **Automatización y scripting:** Python es ideal para escribir scripts que automatizan tareas repetitivas y procesos de administración del sistema.\n",
    "- **Desarrollo de software y prototipos:** Gracias a su rapidez de desarrollo y facilidad de uso, Python es una opción popular para la creación de prototipos y el desarrollo de software.\n",
    "\n",
    "## Ejemplo de Código en Python\n",
    "\n",
    "Aquí hay un ejemplo simple de un programa en Python que imprime \"¡Hola, mundo!\" en la consola:\n",
    "\n",
    "```python\n",
    "print(\"¡Hola, mundo!\")\n"
   ]
  },
  {
   "cell_type": "markdown",
   "metadata": {},
   "source": [
    "# Hola mundo\n",
    "\n",
    "$$e^{i\\pi} - 1 = 0$$"
   ]
  },
  {
   "cell_type": "code",
   "execution_count": 2,
   "metadata": {},
   "outputs": [
    {
     "name": "stdout",
     "output_type": "stream",
     "text": [
      "Hola mundo\n"
     ]
    }
   ],
   "source": [
    "print('Hola mundo')"
   ]
  },
  {
   "cell_type": "code",
   "execution_count": 3,
   "metadata": {},
   "outputs": [
    {
     "name": "stdout",
     "output_type": "stream",
     "text": [
      "¡Hola mundo de Python! \n"
     ]
    }
   ],
   "source": [
    "print(\"¡Hola mundo de Python! \")"
   ]
  },
  {
   "cell_type": "markdown",
   "metadata": {},
   "source": [
    "# Variables\n",
    "\n",
    "Python es un lenguaje de tipado dinámico, lo que significa que no necesitas especificar el tipo de datos cuando creas una variable."
   ]
  },
  {
   "cell_type": "code",
   "execution_count": 4,
   "metadata": {},
   "outputs": [
    {
     "name": "stdout",
     "output_type": "stream",
     "text": [
      "25\n",
      "<class 'int'>\n",
      "25.1\n",
      "<class 'float'>\n",
      "25.1\n",
      "<class 'str'>\n"
     ]
    }
   ],
   "source": [
    "# Ejemplo de tipo de variables\n",
    "edad = 25\n",
    "print(edad)\n",
    "print(type(edad))\n",
    "edad = edad + 0.1\n",
    "print(edad)\n",
    "print(type(edad))\n",
    "edad = str(edad)\n",
    "print(edad)\n",
    "print(type(edad))"
   ]
  },
  {
   "cell_type": "markdown",
   "metadata": {},
   "source": [
    "## Nombres de Variables\n",
    "\n",
    "Los nombres de las variables en Python deben seguir ciertas reglas:\n",
    "\n",
    "- Deben comenzar con una letra (a-z, A-Z) o un guion bajo (_).\n",
    "- Pueden contener letras, números y guiones bajos después del primer carácter.\n",
    "- No pueden comenzar con un número ni contener caracteres especiales.\n",
    "- Python es sensible a mayúsculas y minúsculas, por lo que `variable`, `Variable`, y `VARIABLE` se consideran nombres diferentes."
   ]
  },
  {
   "cell_type": "markdown",
   "metadata": {},
   "source": [
    "## Tipos de Datos Básicos:\n",
    "Las variables en Python pueden almacenar diferentes tipos de datos:\n",
    "| Tipo de Dato   | Tamaño Aproximado    | Rango Aproximado                  |\n",
    "|----------------|-----------------------|----------------------------------|\n",
    "| **`int`**      | Varía con el valor    | $-2^{31}$ a $2^{31}-1$ (en sistemas de 32 bits) o más en sistemas de 64 bits |\n",
    "| **`float`**    | 8 bytes               | ~$2.2 \\times 10^{−308}$ a ~$1.7 \\times 10^{308}$    |\n",
    "| **`complex`**  | 16 bytes              | ~$2.2 \\times 10^{−308}$ a ~$1.7 \\times 10^308$ (parte real e imaginaria) |\n",
    "| **`str`**      | Varía con la longitud | Depende del número de caracteres; Unicode de 1 a 4 bytes por carácter |\n",
    "| **`bool`**     | 1 byte                | `True` o `False`                  |\n",
    "| **`NoneType`** | 4-8 bytes (dependiendo de la implementación) | Único valor `None`                |"
   ]
  },
  {
   "cell_type": "code",
   "execution_count": 5,
   "metadata": {},
   "outputs": [
    {
     "name": "stdout",
     "output_type": "stream",
     "text": [
      "5\n",
      "<class 'int'>\n",
      "5.5\n",
      "<class 'float'>\n",
      "(5+3j)\n",
      "<class 'complex'>\n",
      "Python\n",
      "<class 'str'>\n",
      "True\n",
      "<class 'bool'>\n",
      "None\n",
      "<class 'NoneType'>\n",
      "2.2250738585072014e-308\n",
      "1.7976931348623157e+308\n",
      "inf\n"
     ]
    }
   ],
   "source": [
    "# Ejemplos de tipos de datos\n",
    "\n",
    "# int\n",
    "i = 5\n",
    "print(i)\n",
    "print(type(i))\n",
    "\n",
    "# float\n",
    "a = 5.5\n",
    "print(a)\n",
    "print(type(a))\n",
    "\n",
    "# complex \n",
    "c = 5 + 3j\n",
    "print(c)\n",
    "print(type(c))\n",
    "\n",
    "# str\n",
    "palabra = \"Python\"\n",
    "print(palabra)\n",
    "print(type(palabra))\n",
    "\n",
    "# bool\n",
    "aprobar = True\n",
    "print(aprobar)\n",
    "print(type(aprobar))\n",
    "\n",
    "# NoneType\n",
    "variable = None\n",
    "print(variable)\n",
    "print(type(variable))\n",
    "\n",
    "# python puede determinar sus valores mínimos y máximos que puede representar en el typo float\n",
    "import sys\n",
    "\n",
    "print(sys.float_info.min) \n",
    "print(sys.float_info.max) \n",
    "f = 1.7976931348623157e+310\n",
    "print(f) #inf"
   ]
  },
  {
   "cell_type": "markdown",
   "metadata": {},
   "source": [
    "## Operadores aritméticos\n",
    "\n",
    "Devuelven un número como resultado\n",
    "\n",
    "| Operador | Descripción                     | Ejemplo          | Resultado |\n",
    "|----------|---------------------------------|------------------|-----------|\n",
    "| `+`      | Suma                            | `5 + 3`          | `8`       |\n",
    "| `-`      | Resta                           | `10 - 4`         | `6`       |\n",
    "| `*`      | Multiplicación                   | `7 * 6`          | `42`      |\n",
    "| `/`      | División (resultado en punto flotante) | `8 / 2`          | `4.0`     |\n",
    "| `//`     | División entera (cociente sin parte decimal) | `9 // 4`         | `2`       |\n",
    "| `%`      | Módulo (residuo de la división) | `9 % 4`          | `1`       |\n",
    "| `**`     | Exponenciación (potencia)        | `2 ** 3`         | `8`       |\n"
   ]
  },
  {
   "cell_type": "code",
   "execution_count": 6,
   "metadata": {},
   "outputs": [
    {
     "name": "stdout",
     "output_type": "stream",
     "text": [
      "Suma: 15\n"
     ]
    }
   ],
   "source": [
    "# Ejemplos de operadores aritméticos\n",
    "\n",
    "# Suma\n",
    "a = 10\n",
    "b = 5\n",
    "suma = a + b\n",
    "print(\"Suma:\", suma) \n",
    "\n"
   ]
  },
  {
   "cell_type": "code",
   "execution_count": 7,
   "metadata": {},
   "outputs": [
    {
     "name": "stdout",
     "output_type": "stream",
     "text": [
      "Resta: 5\n"
     ]
    }
   ],
   "source": [
    "# Resta\n",
    "resta = a - b\n",
    "print(\"Resta:\", resta)\n",
    "\n"
   ]
  },
  {
   "cell_type": "code",
   "execution_count": 8,
   "metadata": {},
   "outputs": [
    {
     "name": "stdout",
     "output_type": "stream",
     "text": [
      "Multiplicación: 50\n",
      "División: 2.0\n",
      "División Entera: 2\n",
      "Módulo: 0\n",
      "Exponenciación: 100000\n"
     ]
    }
   ],
   "source": [
    "# Multiplicación\n",
    "mult = a*b\n",
    "print(\"Multiplicación:\", mult)  \n",
    "\n",
    "# División\n",
    "division = a/b\n",
    "print(\"División:\", division)  \n",
    "\n",
    "# División Entera\n",
    "div1 = a//b\n",
    "print(\"División Entera:\", div1)  \n",
    "\n",
    "# Módulo\n",
    "modulo = a%b\n",
    "print(\"Módulo:\", modulo)  \n",
    "\n",
    "# Exponenciación\n",
    "exp = a**b\n",
    "print(\"Exponenciación:\", exp)  # Salida: Exponenciación: 100000\n"
   ]
  },
  {
   "cell_type": "markdown",
   "metadata": {},
   "source": [
    "## Conversión de tipos\n",
    "\n",
    "Al realizar operaciones, se pueden devuover datos de diferentes tipos. En ciertas ocasiones, es necesario cambiar el tipo de dato para realizar operaciones adecuadas. Las conversiones de tipos se pueden hacer utilizando las siguientes funciones:\n",
    "\n",
    "| **Función**    | **Descripción**                                          | **Ejemplo**           |\n",
    "|----------------|----------------------------------------------------------|-----------------------|\n",
    "| `int(x)`       | Convierte `x` a un entero.                              | `int(\"123\")` → `123`  |\n",
    "| `float(x)`     | Convierte `x` a un número de punto flotante.            | `float(\"123.45\")` → `123.45` |\n",
    "| `str(x)`       | Convierte `x` a una cadena de texto.                    | `str(123)` → `\"123\"`  |\n",
    "| `complex(x)`   | Conviente `x` a un complejo $a + 0j$                    | `complex(123)` → `123+0j`    |\n",
    "| `complex(x,y)` | Conviente `x` a un complejo $a + bj$                    | `complex(123,5)` → `123+5j`    |\n",
    "\n"
   ]
  },
  {
   "cell_type": "code",
   "execution_count": 9,
   "metadata": {},
   "outputs": [
    {
     "name": "stdout",
     "output_type": "stream",
     "text": [
      "123\n",
      "123.2\n",
      "123.2\n",
      "(123.2+0j)\n",
      "(123.2+5j)\n",
      "Hola\n"
     ]
    }
   ],
   "source": [
    "#Ejemplo de conversiones de tipos de datos\n",
    "\n",
    "x = 123.2\n",
    "print(int(x))\n",
    "print(float(x))\n",
    "print(str(x))\n",
    "print(complex(x))\n",
    "print(complex(x,5))\n",
    "print(\"Hola\")"
   ]
  },
  {
   "cell_type": "markdown",
   "metadata": {},
   "source": [
    "# Operadores relacionales\n",
    "\n",
    "Devuelven un booleano como resultado\n",
    "\n",
    "| Operador | Descripción                       | Ejemplo          | Resultado |\n",
    "|----------|-----------------------------------|------------------|-----------|\n",
    "| `==`     | Igual a                          | `5 == 5`         | `True`    |\n",
    "| `!=`     | Diferente de                      | `5 != 3`         | `True`    |\n",
    "| `>`      | Mayor que                        | `7 > 5`          | `True`    |\n",
    "| `<`      | Menor que                        | `3 < 5`          | `True`    |\n",
    "| `>=`     | Mayor o igual que                 | `5 >= 5`         | `True`    |\n",
    "| `<=`     | Menor o igual que                 | `4 <= 5`         | `True`    |\n"
   ]
  },
  {
   "cell_type": "code",
   "execution_count": 10,
   "metadata": {},
   "outputs": [
    {
     "name": "stdout",
     "output_type": "stream",
     "text": [
      "a == c: True\n",
      "b == d: False\n",
      "a != b: True\n",
      "c != d: True\n",
      "a > b: True\n",
      "b > d: False\n",
      "b < a: True\n",
      "d < a: False\n",
      "a >= c: True\n",
      "b >= d: False\n",
      "b <= a: True\n",
      "d <= a: False\n"
     ]
    }
   ],
   "source": [
    "# Ejemplos de operadores relacionales\n",
    "a = 10\n",
    "b = 5\n",
    "c = 10\n",
    "d = 20\n",
    "\n",
    "# Igual a (==)\n",
    "print(\"a == c:\", a == c)  \n",
    "print(\"b == d:\", b == d) \n",
    "\n",
    "# Diferente de (!=)\n",
    "print(\"a != b:\", a != b)  \n",
    "print(\"c != d:\", c != d)  \n",
    "\n",
    "# Mayor que (>)\n",
    "print(\"a > b:\", a > b)    \n",
    "print(\"b > d:\", b > d)    \n",
    "\n",
    "# Menor que (<)\n",
    "print(\"b < a:\", b < a)    \n",
    "print(\"d < a:\", d < a)    \n",
    "\n",
    "# Mayor o igual que (>=)\n",
    "print(\"a >= c:\", a >= c)  \n",
    "print(\"b >= d:\", b >= d)  \n",
    "\n",
    "# Menor o igual que (<=)\n",
    "print(\"b <= a:\", b <= a)  \n",
    "print(\"d <= a:\", d <= a)  \n"
   ]
  },
  {
   "cell_type": "code",
   "execution_count": 11,
   "metadata": {},
   "outputs": [
    {
     "name": "stdout",
     "output_type": "stream",
     "text": [
      "a == c: True\n",
      "b == d: False\n",
      "a != b: True\n",
      "c != d: True\n",
      "a > b: True\n",
      "b > d: False\n",
      "b < a: True\n",
      "d < a: False\n",
      "a >= c: True\n",
      "b >= d: False\n",
      "b <= a: True\n",
      "d <= a: False\n"
     ]
    }
   ],
   "source": [
    "# Ejemplos de operadores relacionales\n",
    "a = 10\n",
    "b = 5\n",
    "c = 10\n",
    "d = 20\n",
    "\n",
    "# Igual a (==)\n",
    "print(\"a == c:\", a == c)  \n",
    "print(\"b == d:\", b == d)  \n",
    "\n",
    "# Diferente de (!=)\n",
    "print(\"a != b:\", a != b)  \n",
    "print(\"c != d:\", c != d)  \n",
    "\n",
    "# Mayor que (>)\n",
    "print(\"a > b:\", a > b)    \n",
    "print(\"b > d:\", b > d)    \n",
    "\n",
    "# Menor que (<)\n",
    "print(\"b < a:\", b < a)    \n",
    "print(\"d < a:\", d < a)    \n",
    "\n",
    "# Mayor o igual que (>=)\n",
    "print(\"a >= c:\", a >= c)  \n",
    "print(\"b >= d:\", b >= d)  \n",
    "\n",
    "# Menor o igual que (<=)\n",
    "print(\"b <= a:\", b <= a)  \n",
    "print(\"d <= a:\", d <= a)  \n"
   ]
  },
  {
   "cell_type": "markdown",
   "metadata": {},
   "source": [
    "## Incrementos y decrementos\n",
    "\n",
    "| Operador | Descripción                          | Ejemplo                     | Resultado |\n",
    "|----------|--------------------------------------|-----------------------------|-----------|\n",
    "| `+=`     | Incremento (suma)                    | `x += 3` (si `x = 5`)       | `x` se convierte en `8`  |\n",
    "| `-=`     | Decremento (resta)                   | `x -= 2` (si `x = 5`)       | `x` se convierte en `3`  |\n",
    "| `*=`     | Multiplicación y asignación          | `x *= 4` (si `x = 3`)       | `x` se convierte en `12` |\n",
    "| `/=`     | División y asignación                | `x /= 2` (si `x = 8`)       | `x` se convierte en `4.0` |"
   ]
  },
  {
   "cell_type": "code",
   "execution_count": 12,
   "metadata": {},
   "outputs": [
    {
     "name": "stdout",
     "output_type": "stream",
     "text": [
      "Después de x += 3: 13\n",
      "Después de x -= 2: 11\n",
      "Después de x *= 4: 44\n",
      "Después de x /= 2: 22.0\n"
     ]
    }
   ],
   "source": [
    "#Ejemplos de incrementos y decrementos\n",
    "x = 10\n",
    "y = 5\n",
    "\n",
    "# Incremento (+=)\n",
    "x+= 3\n",
    "print(\"Después de x += 3:\", x)  \n",
    "\n",
    "# Decremento (-=)\n",
    "x-= 2\n",
    "print(\"Después de x -= 2:\", x)  \n",
    "\n",
    "# Multiplicación y asignación (*=)\n",
    "x*= 4\n",
    "print(\"Después de x *= 4:\", x)  \n",
    "\n",
    "# División y asignación (/=)\n",
    "x/= 2\n",
    "print(\"Después de x /= 2:\", x) \n"
   ]
  },
  {
   "cell_type": "markdown",
   "metadata": {},
   "source": [
    "## Cadenas\n",
    "\n",
    "Una **cadena*** es una secuencia de caracteres. Es decir, es una colección ordenada de caracteres (letras, números, símbolos) que se tratan como una sola unidad. Las cadenas en Python son **iterables**, lo que significa que puedes recorrer cada carácter de la cadena uno por uno. Además, son **inmutables**, lo que significa que una vez creada, una cadena no puede ser modificada.\n",
    "\n",
    "#### Literales de tipo cadena\n",
    "\n",
    "- **Delimitación:** Las cadenas en Python se pueden delimitar usando comillas simples (`'`) o comillas dobles (`\"`), Python permite usar cualquiera de estos métodos para definir cadenas."
   ]
  },
  {
   "cell_type": "code",
   "execution_count": 13,
   "metadata": {},
   "outputs": [
    {
     "name": "stdout",
     "output_type": "stream",
     "text": [
      "Hola\n",
      "Mundo\n"
     ]
    }
   ],
   "source": [
    "# Ejemplos de cadena\n",
    "str1 = \"Hola\"\n",
    "str2 = 'Mundo'\n",
    "print(str1)\n",
    "print(str2)"
   ]
  },
  {
   "cell_type": "markdown",
   "metadata": {},
   "source": [
    "## Operaciones con Cadenas\n",
    "\n",
    "| Operación           | Descripción                                                                                     | Ejemplo                                                | Resultado               |\n",
    "|---------------------|-------------------------------------------------------------------------------------------------|--------------------------------------------------------|-------------------------|\n",
    "| Concatenación       | Combina dos o más cadenas usando el operador `+`.                                               | `cadena1 + \" \" + cadena2`                              | `\"Hola Mundo\"`          |\n",
    "| Repetición          | Repite una cadena un número específico de veces usando el operador `*`.                         | `cadena * 3`                                           | `\"HolaHolaHola\"`        |\n",
    "| Indexación          | Accede a un carácter en una posición específica usando corchetes `[]`.                          | `cadena[0]`                                            | `\"P\"`                   |\n",
    "| Segmentación (Slicing)        | Obtén un segmento de una cadena usando la sintaxis `[inicio:fin:incremento]`.                   | `cadena[1:4]`                                          | `\"yth\"`                 |\n",
    "| Longitud            | Obtén la longitud de una cadena usando la función `len()`.                                       | `len(cadena)`                                          | `6`                     |\n",
    "| Comparación         | Compara dos cadenas usando operadores de comparación (`==`, `!=`, `>`, `<`, `>=`, `<=`).        | `cadena1 == cadena2`                                   | `False`                 |\n",
    "<!--| Buscar Subcadena    | Verifica si una subcadena está presente en una cadena usando el operador `in`.                  | `\"Mundo\" in cadena`                                    | `True`                  |\n",
    "| `upper()`           | Convierte a mayúsculas.                                                                         | `cadena.upper()`                                       | `\"PYTHON\"`              |\n",
    "| `lower()`           | Convierte a minúsculas.                                                                         | `cadena.lower()`                                       | `\"python\"`              |\n",
    "| `strip()`           | Elimina espacios en blanco desde ambos lados.                                                   | `cadena.strip()`                                       | `\"Python\"`              |\n",
    "| `replace()`         | Reemplaza una subcadena por otra.                                                               | `cadena.replace(\"Mundo\", \"Python\")`                    | `\"Hola Python\"`         |\n",
    "| `split()`           | Divide la cadena en una lista de subcadenas.                                                    | `cadena.split()`                                       | `[\"Hola\", \"Mundo\", \"Python\"]` |\n",
    "| `join()`            | Une una lista de cadenas en una sola cadena.                                                    | `\" \".join(lista)`                                      | `\"Hola Mundo Python\"`   |\n",
    "| `find()`            | Encuentra la posición de una subcadena.                                                         | `cadena.find(\"Mundo\")`                                 | `5`                     |\n",
    "| `index()`           | Encuentra la posición de una subcadena (arroja una excepción si no se encuentra).               | `cadena.index(\"Mundo\")`                             | `5`                     |--> \n",
    "\n"
   ]
  },
  {
   "cell_type": "code",
   "execution_count": 14,
   "metadata": {},
   "outputs": [
    {
     "name": "stdout",
     "output_type": "stream",
     "text": [
      "Hola Mundo\n",
      "PythonPythonPython\n",
      "Primer carácter =  P\n",
      "Segundo carácter =  h\n",
      "ambicioso\n",
      "46\n",
      "False\n"
     ]
    }
   ],
   "source": [
    "# Ejemplos de operaciones con cadenas\n",
    "\n",
    "# Concatenación\n",
    "cadena1 = \"Hola \"\n",
    "cadena2 = \"Mundo\"\n",
    "resultado = cadena1 + cadena2\n",
    "print(resultado)  #Hola Mundo\n",
    "\n",
    "# Repetición\n",
    "cadena = \"Python\"\n",
    "resultado = cadena * 3\n",
    "print(resultado)  #PythonPythonPython\n",
    "\n",
    "# Indexación\n",
    "cadena = \"Python\"\n",
    "print(\"Primer carácter = \",cadena[0]) #P\n",
    "print(\"Segundo carácter = \",cadena[-3]) #\n",
    "\n",
    "# Segmentación (slicing)\n",
    "cadena = \"No eres ambicioso: te contentas con ser feliz.\"\n",
    "segmento = cadena[8:17]\n",
    "print(segmento)\n",
    "\n",
    "# Longitud de cadena\n",
    "cadena = \"No eres ambicioso: te contentas con ser feliz.\"\n",
    "longitud = len(cadena)\n",
    "print(longitud) \n",
    "\n",
    "# Comparación de cadenas\n",
    "cadena1 = \"Python\"\n",
    "cadena2 = \"Java\"\n",
    "resultado = cadena1 == cadena2\n",
    "print(resultado)"
   ]
  },
  {
   "cell_type": "markdown",
   "metadata": {},
   "source": [
    "## Colecciones en Python\n",
    "\n",
    "En python hay cuatro tipos estructuras de datos para almacenar colecciones de elementos:\n",
    "1. **Tupla (Tuple)**, una colección que es ordenada e inmutable. Permite miembros duplicados.\n",
    "  - **Ordenada:** Los elementos tienen un orden definido.\n",
    "  - **Inmutable:** Los elementos no pueden ser modificados después de la creación.\n",
    "  - **Permite duplicados:** Los elementos pueden estar duplicados.\n",
    "\n",
    "2. **Lista (List)**, una colección que es ordenada y cambiante. Permite miembros duplicados.\n",
    "  - **Ordenada:** Los elementos tienen un orden definido.\n",
    "  - **Cambiante:** Los elementos pueden ser modificados, añadidos o eliminados.\n",
    "  - **Permite duplicados:** Los elementos pueden estar duplicados.\n",
    "\n",
    "3. **Diccionario (Dictionary)**, una colección que es ordenada y cambiante. No permite miembros duplicados.\n",
    "\n",
    "4. **Conjunto (Set)**, una colección que es desordenada, inmutable* y sin índices. No permite miembros duplicados.\n",
    "\n",
    "Dado que usaremos las colecciones de datos como matrices, que en algunos casos reestructuraremos, entonces enfocaremos nuestra atención en las listas.\n",
    "\n",
    "## Operaciones con Listas en Python\n",
    "\n",
    "| **Operación**                    | **Descripción**                                                   | **Ejemplo**                             | **Salida Esperada**       |\n",
    "|----------------------------------|-------------------------------------------------------------------|-----------------------------------------|----------------------------|\n",
    "| **Creación**                     | Crear una lista con elementos.                                    | `mi_lista = [1, 2, 3, 4, 5]`           | `[1, 2, 3, 4, 5]`         |\n",
    "| **Acceso a Elementos**           | Acceder a un elemento por índice.                                 | `mi_lista[0]`                           | `1`                        |\n",
    "| **Modificación de Elementos**    | Cambiar el valor de un elemento.                                  | `mi_lista[0] = 10`                      | `[10, 2, 3, 4, 5]`        |\n",
    "| **Agregar Elementos**            | Añadir un elemento al final de la lista.                          | `mi_lista.append(6)`                    | `[10, 2, 3, 4, 5, 6]`     |\n",
    "| **Insertar Elementos**           | Insertar un elemento en una posición específica.                  | `mi_lista.insert(1, 20)`                | `[10, 20, 2, 3, 4, 5, 6]` |\n",
    "| **Longitud**                     | Obtener el número de elementos en la lista.                       | `len(mi_lista)`                         | `4`                        |\n",
    "| **Iterar**                       | Iterar sobre los elementos de la lista.                           | `for x in mi_lista: print(x)`           | `10, 3, 4, 5`             |\n",
    "| **Segmentación con Paso**        | Obtener una sublista con un paso específico.                      | `mi_lista[0:4:2]`                       | `[10, 4]`                 |\n",
    "| **Ordenar**                      | Ordenar los elementos de la lista.                                | `mi_lista.sort()`                       | `[3, 4, 5, 10]`           |\n",
    "| **Revertir**                     | Invertir el orden de los elementos.                               | `mi_lista.reverse()`                    | `[10, 5, 4, 3]`           |\n",
    "| **Listas Anidadas**              | Crear y acceder a listas dentro de listas.                        | `listas_anidadas = [[1, 2], [3, 4]]`  | `[3, 4]`                  |\n"
   ]
  },
  {
   "cell_type": "code",
   "execution_count": 15,
   "metadata": {},
   "outputs": [
    {
     "name": "stdout",
     "output_type": "stream",
     "text": [
      "[]\n",
      "[1, 2, 3, 4, 5]\n",
      "[1, 'texto', 3.14, [1, 2, 3]]\n",
      "1\n",
      "texto\n",
      "[1, 2, 3]\n",
      "[1, 2.71828, 3.14, [1, 2, 3]]\n",
      "[1, 2.71828, 3.14, [1, 2, 3], [6, 4, 3, 9]]\n",
      "[1, 2.71828, 3.14, 1111, [1, 2, 3], [6, 4, 3, 9]]\n",
      "6\n",
      "1\n",
      "2.71828\n",
      "3.14\n",
      "1111\n",
      "[1, 2, 3]\n",
      "[6, 4, 3, 9]\n",
      "[2, 3, 4, 5, 6, 7]\n",
      "[2, 4, 6]\n",
      "[0, 1, 2, 3, 3, 4, 5, 7, 8, 9, 10]\n",
      "[10, 9, 8, 7, 5, 4, 3, 3, 2, 1, 0]\n"
     ]
    }
   ],
   "source": [
    "# Ejemplos de listas\n",
    "\n",
    "#Creación de listas\n",
    "mi_lista = []\n",
    "print(mi_lista)\n",
    "\n",
    "# Crear una lista con elementos\n",
    "mi_lista = [1, 2, 3, 4, 5]\n",
    "print(mi_lista)\n",
    "\n",
    "# Crear una lista con diferentes tipos de datos\n",
    "mi_lista_mixta = [1, \"texto\", 3.14, [1, 2, 3]]\n",
    "print(mi_lista_mixta)\n",
    "\n",
    "# Acceso a elementos\n",
    "print(mi_lista_mixta[0])\n",
    "print(mi_lista_mixta[1])\n",
    "print(mi_lista_mixta[3])\n",
    "\n",
    "# Modificación de Elementos\n",
    "mi_lista_mixta[1] = 2.71828\n",
    "print(mi_lista_mixta)\n",
    "\n",
    "# Agregar elementos al final\n",
    "mi_lista_mixta.append([6,4,3,9])\n",
    "print(mi_lista_mixta)\n",
    "\n",
    "# Agregar elemento en una posición específica\n",
    "mi_lista_mixta.insert(3,1111)\n",
    "print(mi_lista_mixta)\n",
    "\n",
    "# Longitud de una lista\n",
    "n = len(mi_lista_mixta)\n",
    "print(n)\n",
    "#print(len(mi_lista_mixta[3]))\n",
    "\n",
    "# Iterar sobre los elementos de la lista\n",
    "for elemento in mi_lista_mixta:\n",
    "    print(elemento)\n",
    "\n",
    "# Segmentación (Slicing)\n",
    "lista = [0,1,2,3,4,5,6,7,8,9,10]\n",
    "print(lista[2:8:])\n",
    "print(lista[2:8:2])\n",
    "\n",
    "# Ordenar una lista\n",
    "lista1 = [1,0,2,3,4,5,3,7,8,9,10]\n",
    "lista1.sort()\n",
    "print(lista1)  \n",
    "\n",
    "# Revertir una lista\n",
    "lista1.reverse()\n",
    "print(lista1)"
   ]
  },
  {
   "cell_type": "markdown",
   "metadata": {},
   "source": [
    "# Sentencias de control \n",
    "\n",
    "En Python, los controles de sentencias permiten gestionar el flujo de ejecución de un programa, facilitando la toma de decisiones, la repetición de bloques de código y la gestión de excepciones.\n",
    "\n",
    "## Sentencias condicionales\n",
    "\n",
    "- **`if`**: Ejecuta un bloque de código si la condición es verdadera.\n",
    "\n",
    "```python\n",
    "if condition1:\n",
    "    Bloque de código\n",
    "```"
   ]
  },
  {
   "cell_type": "code",
   "execution_count": 16,
   "metadata": {},
   "outputs": [
    {
     "name": "stdout",
     "output_type": "stream",
     "text": [
      "El número x es positivo\n"
     ]
    }
   ],
   "source": [
    "# Ejemplos de uso del if\n",
    "x = 5\n",
    "if x > 0:\n",
    "    print(\"El número x es positivo\")"
   ]
  },
  {
   "cell_type": "markdown",
   "metadata": {},
   "source": [
    "- **`elif`**: Se utiliza para verificar múltiples condiciones si la primera condición es falsa.\n",
    "```python\n",
    "if condicion1:\n",
    "    Bloque de código\n",
    "elif condicion2\n",
    "    Bloque de código\n",
    "```"
   ]
  },
  {
   "cell_type": "code",
   "execution_count": 17,
   "metadata": {},
   "outputs": [],
   "source": [
    "# Ejemplos de uso del elif\n",
    "x = 0\n",
    "if x > 0:\n",
    "    print(\"El número x es positivo\")\n",
    "elif x < 0:\n",
    "    print(\"El número x es negativo\")\n"
   ]
  },
  {
   "cell_type": "markdown",
   "metadata": {},
   "source": [
    "- **`else`**: Se ejecuta cuando ninguna de las condiciones anteriores es verdadera.\n",
    "```python\n",
    "if condicion1:\n",
    "    Bloque de código\n",
    "elif condicion2\n",
    "    Bloque de código\n",
    "else:\n",
    "    Bloque de código\n",
    "```"
   ]
  },
  {
   "cell_type": "code",
   "execution_count": 18,
   "metadata": {},
   "outputs": [
    {
     "name": "stdout",
     "output_type": "stream",
     "text": [
      "El número x es negativo\n"
     ]
    }
   ],
   "source": [
    "# Ejemplo de uso del else\n",
    "x = -7\n",
    "if x > 0:\n",
    "    print(\"El número x es positivo\")\n",
    "elif x < 0:\n",
    "    print(\"El número x es negativo\")\n",
    "else:\n",
    "    print(\"El número x es cero\")"
   ]
  },
  {
   "cell_type": "markdown",
   "metadata": {},
   "source": [
    "## Sentencias de Bucles\n",
    "\n",
    "Los bucles permiten repetir un bloque de código mientras se cumpla una condición.\n",
    "\n",
    "**`for`**: Itera sobre una secuencia (como una lista, tupla, cadena, etc.).\n",
    "\n",
    "```python\n",
    "for elemento in coleccion:\n",
    "    Bloque de código\n",
    "```"
   ]
  },
  {
   "cell_type": "code",
   "execution_count": 19,
   "metadata": {},
   "outputs": [
    {
     "name": "stdout",
     "output_type": "stream",
     "text": [
      "El número es  2  par\n",
      "El número es  4  par\n",
      "El número es  4  par\n",
      "El número es  6  par\n"
     ]
    }
   ],
   "source": [
    "#Ejemplo de uso del for\n",
    "lista2 = [2,3,7,4,5,3,9,4,6]\n",
    "for i in lista2: #range(2,20,2)\n",
    "    if i%2 == 0:\n",
    "        print(\"El número es \",i,\" par\")"
   ]
  },
  {
   "cell_type": "markdown",
   "metadata": {},
   "source": [
    "**`while`**: Repite un bloque de código mientras una condición sea verdadera.\n",
    "```python\n",
    "while condicion:\n",
    "    Bloque de código\n",
    "```\n"
   ]
  },
  {
   "cell_type": "code",
   "execution_count": 20,
   "metadata": {},
   "outputs": [
    {
     "name": "stdout",
     "output_type": "stream",
     "text": [
      "0101\n",
      "1010\n"
     ]
    }
   ],
   "source": [
    "# Ejemplo de uso del while\n",
    "decimal = 10\n",
    "cadena=''\n",
    "while decimal >0:\n",
    "    cadena+=str(decimal%2)\n",
    "    decimal= decimal//2\n",
    "print(cadena)\n",
    "cadena = cadena[len(cadena)::-1]\n",
    "\n",
    "print(cadena)\n",
    "\n",
    "while x>0:\n",
    "    pass\n",
    "\n"
   ]
  },
  {
   "cell_type": "markdown",
   "metadata": {},
   "source": [
    "**`break`**: Sale de un bucle antes de que la condición de finalización sea verdadera.  \n",
    "**`continue`:** Salta el resto del código en el bucle para la iteración actual y pasa a la siguiente iteración.  \n",
    "**`pass`**: No realiza ninguna acción; se utiliza como un marcador de posición en bloques de código."
   ]
  },
  {
   "cell_type": "markdown",
   "metadata": {},
   "source": [
    "# Sentencias de Importación\n",
    "\n",
    "Las sentencias de importación permiten utilizar módulos y paquetes en tu código.\n",
    "1. **`import`**: Importa un módulo completo.\n",
    "2. **`from ... import`**: Importa elementos específicos de un módulo.\n",
    "3. **`import ... as`**: Asigna un alias a un módulo.\n",
    "\n",
    "La librerias que usaremos en este curso son las siguientes:\n",
    "\n",
    "1. **`numpy`** proporciona soporte para grandes arreglos y matrices multidimensionales, junto con una colección de funciones matemáticas de alto nivel para operar con estos datos.\n",
    "\n",
    "2. **`sympy`** es una biblioteca para matemáticas simbólicas en Python. Permite realizar algebra simbólica, cálculo de derivadas e integrales, simplificación de expresiones matemáticas y más.\n",
    "\n",
    "3. **`scipy`** se basa en NumPy y proporciona funcionalidades adicionales para el procesamiento de señales, optimización, integración, interpolación, eigenproblemas y otras aplicaciones científicas.\n",
    "\n",
    "4. **`matplotlib`** es una biblioteca para la creación de gráficos y visualizaciones Python."
   ]
  },
  {
   "cell_type": "code",
   "execution_count": 21,
   "metadata": {},
   "outputs": [
    {
     "ename": "ModuleNotFoundError",
     "evalue": "No module named 'scipy'",
     "output_type": "error",
     "traceback": [
      "\u001b[1;31m---------------------------------------------------------------------------\u001b[0m",
      "\u001b[1;31mModuleNotFoundError\u001b[0m                       Traceback (most recent call last)",
      "Cell \u001b[1;32mIn[21], line 1\u001b[0m\n\u001b[1;32m----> 1\u001b[0m \u001b[38;5;28;01mimport\u001b[39;00m \u001b[38;5;21;01mscipy\u001b[39;00m \n",
      "\u001b[1;31mModuleNotFoundError\u001b[0m: No module named 'scipy'"
     ]
    }
   ],
   "source": [
    "import scipy \n"
   ]
  },
  {
   "cell_type": "markdown",
   "metadata": {},
   "source": [
    "# Libreria numpy\n",
    "\n",
    "| **Funcionalidad**                | **Descripción**                                                                                             | **Ejemplo**                                                                 |\n",
    "|----------------------------------|-------------------------------------------------------------------------------------------------------------|------------------------------------------------------------------------------|\n",
    "| **Creación de Arreglos**          | Crear arreglos a partir de listas o arreglos de otra forma.                                                  | `arr = np.array([1, 2, 3, 4])`                                               |\n",
    "| **Operaciones con Matrices**      | Realizar operaciones matemáticas en matrices, como suma, multiplicación y determinante.                     | `np.add(A, B)`, `np.dot(A, B)`                                               |\n",
    "| **Inversa de Matrices**           | Calcular la matriz inversa de una matriz cuadrada.                                                           | `np.linalg.inv(A)`                                                            |\n",
    "| **Solución de Sistemas de Ecuaciones** | Resolver sistemas de ecuaciones lineales utilizando matrices.                                               | `np.linalg.solve(A, b)`                                                       |\n",
    "| **Copia de Arreglos**             | Crear una copia de un arreglo para evitar modificaciones en el original.                                     | `arr_copy = np.copy(arr)`                                                     |\n",
    "| **Transposición de Matrices**     | Obtener la transpuesta de una matriz (intercambiar filas por columnas).                                      | `arr.T`                                                                       |\n",
    "| **Vector Columna**                | Convertir un arreglo a una forma de vector columna (matriz de una sola columna).                             | `arr_col = arr.reshape(-1, 1)`                                                |\n"
   ]
  },
  {
   "cell_type": "code",
   "execution_count": null,
   "metadata": {},
   "outputs": [
    {
     "name": "stdout",
     "output_type": "stream",
     "text": [
      "\n",
      "Operaciones con matrices:\n",
      "Suma de A y B: [[ 9.  4.  0.]\n",
      " [ 5. 12. -8.]\n",
      " [ 3. -5.  7.]]\n",
      "Producto de A y B: [[  8.   5.  12.]\n",
      " [ 14.  26. -30.]\n",
      " [ -3. -19.  23.]]\n",
      "\n",
      "Inversa de la matriz A:\n",
      "[[0.33333333 0.16666667 0.        ]\n",
      " [0.16666667 0.45833333 0.25      ]\n",
      " [0.         0.25       0.5       ]]\n",
      "\n",
      "Solución del sistema de ecuaciones A * x = b:\n",
      "[1.   2.75 2.5 ]\n",
      "\n",
      "Copia de arreglo:\n",
      "Original:\n",
      "[[ 4. -2.  1.]\n",
      " [-2.  4. -2.]\n",
      " [ 1. -2.  3.]]\n",
      "Copiado con modificaciones:\n",
      "[[10. 10. 10.]\n",
      " [-2.  4. -2.]\n",
      " [ 1. -2.  3.]]\n",
      "\n",
      "Transposición de la matriz A:\n",
      "[[ 4. -2.  1.]\n",
      " [-2.  4. -2.]\n",
      " [ 1. -2.  3.]]\n",
      "\n",
      "Vector columna a partir del arreglo:\n",
      "[[1.  ]\n",
      " [2.75]\n",
      " [2.5 ]]\n"
     ]
    }
   ],
   "source": [
    "# Ejemplos de la libreria numpy\n",
    "# Importar la librería\n",
    "import numpy as np\n",
    "\n",
    "# Creación un arreglos en numpy\n",
    "A = np.array([[4,-2,1],[-2,4,-2],[1,-2,3]],float)\n",
    "B = np.array([[5, 6, -1], [7, 8, -6], [2, -3, 4]],float)\n",
    "b = np.array([1,4,3],float)\n",
    "#np.set_printoptions(precision=6,suppress=True,linewidth=400)\n",
    "\n",
    "# Operaciones con Matrices\n",
    "suma = np.add(A, B)\n",
    "producto = np.dot(A, B)\n",
    "print(\"\\nOperaciones con matrices:\")\n",
    "print(\"Suma de A y B:\", suma)\n",
    "print(\"Producto de A y B:\",producto)\n",
    "\n",
    "# Inversa de Matrices\n",
    "A_inversa = np.linalg.inv(A)\n",
    "print(\"\\nInversa de la matriz A:\")\n",
    "print(A_inversa)\n",
    "\n",
    "# Solución de Sistemas de Ecuaciones\n",
    "x = np.linalg.solve(A, b)\n",
    "print(\"\\nSolución del sistema de ecuaciones A * x = b:\")\n",
    "print(x)\n",
    "\n",
    "# Copia de Arreglos\n",
    "Acopia = np.copy(A)\n",
    "Acopia[0] = 10\n",
    "print(\"\\nCopia de arreglo:\")\n",
    "print(\"Original:\")\n",
    "print(A)\n",
    "print(\"Copiado con modificaciones:\")\n",
    "print(Acopia)\n",
    "\n",
    "# Transposición de Matrices\n",
    "transpuesta = A.T\n",
    "print(\"\\nTransposición de la matriz A:\")\n",
    "print(transpuesta)\n",
    "\n",
    "# Vector Columna\n",
    "vector_columna = x.reshape(-1, 1)\n",
    "print(\"\\nVector columna a partir del arreglo:\")\n",
    "print(vector_columna)"
   ]
  },
  {
   "cell_type": "markdown",
   "metadata": {},
   "source": [
    "# Operaciones con renglones en numpy\n"
   ]
  },
  {
   "cell_type": "code",
   "execution_count": null,
   "metadata": {},
   "outputs": [
    {
     "name": "stdout",
     "output_type": "stream",
     "text": [
      "A = \n",
      " [[1 2 3]\n",
      " [4 5 6]\n",
      " [7 8 9]]\n",
      "[[4 5 6]\n",
      " [1 2 3]\n",
      " [7 8 9]]\n"
     ]
    }
   ],
   "source": [
    "A = np.array([[1,2,3],[4,5,6],[7,8,9]])\n",
    "print(\"A = \\n\",A)\n",
    "\n",
    "# Intercambio de renglones\n",
    "A1 = A.copy()\n",
    "A1[[0,1]]=A1[[1,0]]\n",
    "print(A1)\n"
   ]
  },
  {
   "cell_type": "code",
   "execution_count": null,
   "metadata": {},
   "outputs": [
    {
     "name": "stdout",
     "output_type": "stream",
     "text": [
      "[ 5 10 15]\n"
     ]
    }
   ],
   "source": [
    "# Multiplicación de un renglón por escalar\n",
    "print(5*A[0])"
   ]
  },
  {
   "cell_type": "code",
   "execution_count": 22,
   "metadata": {},
   "outputs": [
    {
     "ename": "NameError",
     "evalue": "name 'A' is not defined",
     "output_type": "error",
     "traceback": [
      "\u001b[1;31m---------------------------------------------------------------------------\u001b[0m",
      "\u001b[1;31mNameError\u001b[0m                                 Traceback (most recent call last)",
      "Cell \u001b[1;32mIn[22], line 2\u001b[0m\n\u001b[0;32m      1\u001b[0m \u001b[38;5;66;03m# Suma de un multiplo escalar de un renglón más otro renglón\u001b[39;00m\n\u001b[1;32m----> 2\u001b[0m A[\u001b[38;5;241m2\u001b[39m] \u001b[38;5;241m=\u001b[39m \u001b[43mA\u001b[49m[\u001b[38;5;241m1\u001b[39m] \u001b[38;5;241m+\u001b[39m A[\u001b[38;5;241m2\u001b[39m]\n\u001b[0;32m      3\u001b[0m \u001b[38;5;28mprint\u001b[39m(A)\n",
      "\u001b[1;31mNameError\u001b[0m: name 'A' is not defined"
     ]
    }
   ],
   "source": [
    "# Suma de un multiplo escalar de un renglón más otro renglón\n",
    "A[2] = A[1] + A[2]\n",
    "print(A)"
   ]
  },
  {
   "cell_type": "markdown",
   "metadata": {},
   "source": [
    "# Librería matplotlib\n",
    "\n",
    "\n",
    "| **Función**   | **Descripción**                                                                                 | **Ejemplo**                                          |\n",
    "|---------------|-------------------------------------------------------------------------------------------------|------------------------------------------------------|\n",
    "| `plot`        | Grafica líneas y/o marcadores.                                                                  | `plt.plot(x, y)`                                     |\n",
    "| `xlabel`      | Establece la etiqueta para el eje X.                                                            | `plt.xlabel(\"Eje X\")`                                |\n",
    "| `ylabel`      | Establece la etiqueta para el eje Y.                                                            | `plt.ylabel(\"Eje Y\")`                                |\n",
    "| `legend`      | Muestra una leyenda en el gráfico.                                                              | `plt.legend([\"Etiqueta 1\", \"Etiqueta 2\"])`           |\n",
    "| `grid`        | Activa o desactiva la cuadrícula en el gráfico.                                                 | `plt.grid(True)`                                     |\n",
    "| `show`        | Muestra el gráfico en la pantalla.                                                              | `plt.show()`                                         |\n",
    "| `scatter`     | Crea un gráfico de dispersión.                                                                  | `plt.scatter(x, y)`                                  |\n",
    "| `subplot`     | Crea múltiples gráficos en una sola figura, especificando el número de filas, columnas y el índice. | `plt.subplot(2, 1, 1)`                               |\n"
   ]
  },
  {
   "cell_type": "code",
   "execution_count": null,
   "metadata": {},
   "outputs": [],
   "source": []
  },
  {
   "cell_type": "code",
   "execution_count": null,
   "metadata": {},
   "outputs": [
    {
     "data": {
      "image/png": "[encoded data removed]",
      "text/plain": [
       "<Figure size 640x480 with 1 Axes>"
      ]
     },
     "metadata": {},
     "output_type": "display_data"
    }
   ],
   "source": [
    "### Ejemplos de Uso\n",
    "\n",
    "import matplotlib.pyplot as plt\n",
    "\n",
    "\n",
    "# Datos de ejemplo\n",
    "x = np.linspace(0, 10, 100)\n",
    "y = np.sin(x)\n",
    "y2 = np.cos(x)\n",
    "\n",
    "# plot\n",
    "plt.plot(x, y, label=\"Seno\")\n",
    "plt.plot(x, y2, label=\"Coseno\")\n",
    "\n",
    "# xlabel, ylabel\n",
    "plt.xlabel(\"Eje X\")\n",
    "plt.ylabel(\"Eje Y\")\n",
    "\n",
    "# legend\n",
    "plt.legend()\n",
    "\n",
    "# grid\n",
    "plt.grid(True)\n",
    "\n",
    "# scatter\n",
    "plt.scatter(x, y, color='red')\n",
    "\n",
    "# show\n",
    "plt.show()\n",
    "\n",
    "\n",
    "\n",
    "\n",
    "\n"
   ]
  },
  {
   "cell_type": "markdown",
   "metadata": {},
   "source": [
    "# Actividades:\n",
    "\n",
    "\n",
    "1. Escribe un script en Python que calcule la suma $$\\sum_{i=1}^{n} (i^2 + 2i + 3)$$ donde $n$ es un número entero positivo ingresado por el usuario.\n",
    "\n",
    "2. Escribe una función que devuelva la media de los elementos de un array de tipo **float** pasado como parámetro.\n",
    "\n",
    "3. Escribe una función que devuelva la desviación estándar de los elementos de un array de tipo **float** pasado como parámetro.\n",
    "\n",
    "<!--4. EscriLa función `criba` toma un array de booleanos y un número entero `n`. \n",
    "   - Pone a `False` los elementos del array en posiciones que sean múltiplos de `n`, comenzando desde `2n`.\n",
    "\n",
    "5. **Procedimiento Eratóstenes**:\n",
    "   - La función `eratostenes` toma un número entero `n`.\n",
    "   - Reserva un array de booleanos de tamaño `n + 1` y lo inicializa con `True`, excepto para los índices `0` y `1`.\n",
    "   - Aplica la función `criba` para cada número primo encontrado, hasta la raíz cuadrada de `n`.\n",
    "\n",
    "6. **Programa Completo**:\n",
    "   - El programa solicita al usuario un número entero positivo `n`.\n",
    "   - Utiliza la función `eratostenes` para calcular los números primos hasta `n`.\n",
    "   - Imprime la lista de números primos encontrados.\n",
    "\n",
    "Estos ejercicios permiten practicar la implementación de algoritmos clásicos, el manejo de arrays y la interacción con el usuario en Python.-->"
   ]
  },
  {
   "cell_type": "markdown",
   "metadata": {},
   "source": []
  },
  {
   "cell_type": "code",
   "execution_count": 2,
   "metadata": {},
   "outputs": [
    {
     "name": "stdout",
     "output_type": "stream",
     "text": [
      "La suma de la serie para n = 2 es: 17\n"
     ]
    }
   ],
   "source": [
    "def calcular_suma(n):\n",
    "    suma = 0\n",
    "    for i in range(1, n + 1):\n",
    "        suma += i**2 + 2*i + 3\n",
    "    return suma\n",
    "\n",
    "# Ejemplo de uso:\n",
    "n = int(input(\"Ingresa un número entero positivo: \"))\n",
    "resultado = calcular_suma(n)\n",
    "print(f\"La suma de la serie para n = {n} es: {resultado}\")\n"
   ]
  },
  {
   "cell_type": "markdown",
   "metadata": {},
   "source": [
    "Funciones con PYTHON"
   ]
  },
  {
   "cell_type": "code",
   "execution_count": 3,
   "metadata": {},
   "outputs": [
    {
     "name": "stdout",
     "output_type": "stream",
     "text": [
      "-5\n"
     ]
    }
   ],
   "source": [
    "def f(x):\n",
    "    return x**3-2*x**2-5\n",
    "\n",
    "print(f(2))\n"
   ]
  }
 ],
 "metadata": {
  "kernelspec": {
   "display_name": "Python 3",
   "language": "python",
   "name": "python3"
  },
  "language_info": {
   "codemirror_mode": {
    "name": "ipython",
    "version": 3
   },
   "file_extension": ".py",
   "mimetype": "text/x-python",
   "name": "python",
   "nbconvert_exporter": "python",
   "pygments_lexer": "ipython3",
   "version": "3.12.5"
  }
 },
 "nbformat": 4,
 "nbformat_minor": 2
}
